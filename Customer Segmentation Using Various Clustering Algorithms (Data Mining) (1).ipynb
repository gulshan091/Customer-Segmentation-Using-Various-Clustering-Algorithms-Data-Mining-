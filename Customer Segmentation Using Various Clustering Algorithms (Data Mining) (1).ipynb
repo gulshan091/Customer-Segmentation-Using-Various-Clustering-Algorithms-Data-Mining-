{
 "cells": [
  {
   "cell_type": "code",
   "execution_count": 1,
   "id": "0b49f5da",
   "metadata": {},
   "outputs": [],
   "source": [
    "import pandas as pd\n",
    "import numpy as np\n",
    "import seaborn as sns\n",
    "import matplotlib.pyplot as plt\n",
    "from scipy import stats\n",
    "import warnings\n",
    "warnings.filterwarnings(\"ignore\")"
   ]
  },
  {
   "cell_type": "code",
   "execution_count": 2,
   "id": "7d5eb1ee",
   "metadata": {},
   "outputs": [],
   "source": [
    "df=pd.read_csv(\"Mall_Customers.csv\")"
   ]
  },
  {
   "cell_type": "code",
   "execution_count": 3,
   "id": "cde9cd99",
   "metadata": {},
   "outputs": [
    {
     "name": "stdout",
     "output_type": "stream",
     "text": [
      "<class 'pandas.core.frame.DataFrame'>\n",
      "RangeIndex: 200 entries, 0 to 199\n",
      "Data columns (total 5 columns):\n",
      " #   Column                  Non-Null Count  Dtype \n",
      "---  ------                  --------------  ----- \n",
      " 0   CustomerID              200 non-null    int64 \n",
      " 1   Gender                  200 non-null    object\n",
      " 2   Age                     200 non-null    int64 \n",
      " 3   Annual Income (k$)      200 non-null    int64 \n",
      " 4   Spending Score (1-100)  200 non-null    int64 \n",
      "dtypes: int64(4), object(1)\n",
      "memory usage: 7.9+ KB\n"
     ]
    }
   ],
   "source": [
    "df.info()"
   ]
  },
  {
   "cell_type": "code",
   "execution_count": 4,
   "id": "841eeeed",
   "metadata": {},
   "outputs": [
    {
     "data": {
      "text/html": [
       "<div>\n",
       "<style scoped>\n",
       "    .dataframe tbody tr th:only-of-type {\n",
       "        vertical-align: middle;\n",
       "    }\n",
       "\n",
       "    .dataframe tbody tr th {\n",
       "        vertical-align: top;\n",
       "    }\n",
       "\n",
       "    .dataframe thead th {\n",
       "        text-align: right;\n",
       "    }\n",
       "</style>\n",
       "<table border=\"1\" class=\"dataframe\">\n",
       "  <thead>\n",
       "    <tr style=\"text-align: right;\">\n",
       "      <th></th>\n",
       "      <th>CustomerID</th>\n",
       "      <th>Gender</th>\n",
       "      <th>Age</th>\n",
       "      <th>Annual Income (k$)</th>\n",
       "      <th>Spending Score (1-100)</th>\n",
       "    </tr>\n",
       "  </thead>\n",
       "  <tbody>\n",
       "    <tr>\n",
       "      <th>0</th>\n",
       "      <td>1</td>\n",
       "      <td>Male</td>\n",
       "      <td>19</td>\n",
       "      <td>15</td>\n",
       "      <td>39</td>\n",
       "    </tr>\n",
       "    <tr>\n",
       "      <th>1</th>\n",
       "      <td>2</td>\n",
       "      <td>Male</td>\n",
       "      <td>21</td>\n",
       "      <td>15</td>\n",
       "      <td>81</td>\n",
       "    </tr>\n",
       "    <tr>\n",
       "      <th>2</th>\n",
       "      <td>3</td>\n",
       "      <td>Female</td>\n",
       "      <td>20</td>\n",
       "      <td>16</td>\n",
       "      <td>6</td>\n",
       "    </tr>\n",
       "    <tr>\n",
       "      <th>3</th>\n",
       "      <td>4</td>\n",
       "      <td>Female</td>\n",
       "      <td>23</td>\n",
       "      <td>16</td>\n",
       "      <td>77</td>\n",
       "    </tr>\n",
       "    <tr>\n",
       "      <th>4</th>\n",
       "      <td>5</td>\n",
       "      <td>Female</td>\n",
       "      <td>31</td>\n",
       "      <td>17</td>\n",
       "      <td>40</td>\n",
       "    </tr>\n",
       "  </tbody>\n",
       "</table>\n",
       "</div>"
      ],
      "text/plain": [
       "   CustomerID  Gender  Age  Annual Income (k$)  Spending Score (1-100)\n",
       "0           1    Male   19                  15                      39\n",
       "1           2    Male   21                  15                      81\n",
       "2           3  Female   20                  16                       6\n",
       "3           4  Female   23                  16                      77\n",
       "4           5  Female   31                  17                      40"
      ]
     },
     "execution_count": 4,
     "metadata": {},
     "output_type": "execute_result"
    }
   ],
   "source": [
    "df.head()"
   ]
  },
  {
   "cell_type": "markdown",
   "id": "95bf46a5",
   "metadata": {},
   "source": [
    "Assuming that 1k dollar to 100k dollar is spending"
   ]
  },
  {
   "cell_type": "code",
   "execution_count": 5,
   "id": "8a40beed",
   "metadata": {},
   "outputs": [
    {
     "data": {
      "text/html": [
       "<div>\n",
       "<style scoped>\n",
       "    .dataframe tbody tr th:only-of-type {\n",
       "        vertical-align: middle;\n",
       "    }\n",
       "\n",
       "    .dataframe tbody tr th {\n",
       "        vertical-align: top;\n",
       "    }\n",
       "\n",
       "    .dataframe thead th {\n",
       "        text-align: right;\n",
       "    }\n",
       "</style>\n",
       "<table border=\"1\" class=\"dataframe\">\n",
       "  <thead>\n",
       "    <tr style=\"text-align: right;\">\n",
       "      <th></th>\n",
       "      <th>CustomerID</th>\n",
       "      <th>Age</th>\n",
       "      <th>Annual Income (k$)</th>\n",
       "      <th>Spending Score (1-100)</th>\n",
       "    </tr>\n",
       "  </thead>\n",
       "  <tbody>\n",
       "    <tr>\n",
       "      <th>count</th>\n",
       "      <td>200.000000</td>\n",
       "      <td>200.000000</td>\n",
       "      <td>200.000000</td>\n",
       "      <td>200.000000</td>\n",
       "    </tr>\n",
       "    <tr>\n",
       "      <th>mean</th>\n",
       "      <td>100.500000</td>\n",
       "      <td>38.850000</td>\n",
       "      <td>60.560000</td>\n",
       "      <td>50.200000</td>\n",
       "    </tr>\n",
       "    <tr>\n",
       "      <th>std</th>\n",
       "      <td>57.879185</td>\n",
       "      <td>13.969007</td>\n",
       "      <td>26.264721</td>\n",
       "      <td>25.823522</td>\n",
       "    </tr>\n",
       "    <tr>\n",
       "      <th>min</th>\n",
       "      <td>1.000000</td>\n",
       "      <td>18.000000</td>\n",
       "      <td>15.000000</td>\n",
       "      <td>1.000000</td>\n",
       "    </tr>\n",
       "    <tr>\n",
       "      <th>25%</th>\n",
       "      <td>50.750000</td>\n",
       "      <td>28.750000</td>\n",
       "      <td>41.500000</td>\n",
       "      <td>34.750000</td>\n",
       "    </tr>\n",
       "    <tr>\n",
       "      <th>50%</th>\n",
       "      <td>100.500000</td>\n",
       "      <td>36.000000</td>\n",
       "      <td>61.500000</td>\n",
       "      <td>50.000000</td>\n",
       "    </tr>\n",
       "    <tr>\n",
       "      <th>75%</th>\n",
       "      <td>150.250000</td>\n",
       "      <td>49.000000</td>\n",
       "      <td>78.000000</td>\n",
       "      <td>73.000000</td>\n",
       "    </tr>\n",
       "    <tr>\n",
       "      <th>max</th>\n",
       "      <td>200.000000</td>\n",
       "      <td>70.000000</td>\n",
       "      <td>137.000000</td>\n",
       "      <td>99.000000</td>\n",
       "    </tr>\n",
       "  </tbody>\n",
       "</table>\n",
       "</div>"
      ],
      "text/plain": [
       "       CustomerID         Age  Annual Income (k$)  Spending Score (1-100)\n",
       "count  200.000000  200.000000          200.000000              200.000000\n",
       "mean   100.500000   38.850000           60.560000               50.200000\n",
       "std     57.879185   13.969007           26.264721               25.823522\n",
       "min      1.000000   18.000000           15.000000                1.000000\n",
       "25%     50.750000   28.750000           41.500000               34.750000\n",
       "50%    100.500000   36.000000           61.500000               50.000000\n",
       "75%    150.250000   49.000000           78.000000               73.000000\n",
       "max    200.000000   70.000000          137.000000               99.000000"
      ]
     },
     "execution_count": 5,
     "metadata": {},
     "output_type": "execute_result"
    }
   ],
   "source": [
    "df.describe()"
   ]
  },
  {
   "cell_type": "code",
   "execution_count": 6,
   "id": "1fd1b90a",
   "metadata": {},
   "outputs": [
    {
     "data": {
      "text/plain": [
       "CustomerID                0\n",
       "Gender                    0\n",
       "Age                       0\n",
       "Annual Income (k$)        0\n",
       "Spending Score (1-100)    0\n",
       "dtype: int64"
      ]
     },
     "execution_count": 6,
     "metadata": {},
     "output_type": "execute_result"
    }
   ],
   "source": [
    "df.isnull().sum()"
   ]
  },
  {
   "cell_type": "markdown",
   "id": "94447849",
   "metadata": {},
   "source": [
    "### EDA"
   ]
  },
  {
   "cell_type": "code",
   "execution_count": 7,
   "id": "8a026968",
   "metadata": {},
   "outputs": [
    {
     "data": {
      "text/plain": [
       "Index(['CustomerID', 'Gender', 'Age', 'Annual Income (k$)',\n",
       "       'Spending Score (1-100)'],\n",
       "      dtype='object')"
      ]
     },
     "execution_count": 7,
     "metadata": {},
     "output_type": "execute_result"
    }
   ],
   "source": [
    "df.columns"
   ]
  },
  {
   "cell_type": "code",
   "execution_count": 8,
   "id": "b4c6eb9d",
   "metadata": {},
   "outputs": [],
   "source": [
    "df_list=list(['Annual Income (k$)',\n",
    "       'Spending Score (1-100)'])"
   ]
  },
  {
   "cell_type": "code",
   "execution_count": 9,
   "id": "efb6b64d",
   "metadata": {},
   "outputs": [
    {
     "data": {
      "image/png": "[encoded data removed]",
      "text/plain": [
       "<Figure size 1368x1080 with 2 Axes>"
      ]
     },
     "metadata": {
      "needs_background": "light"
     },
     "output_type": "display_data"
    }
   ],
   "source": [
    "plt.figure(figsize = (19,15))\n",
    "feature_list = df_list\n",
    "for i in range(len(feature_list)):\n",
    "    plt.subplot(3, 6, i + 1)\n",
    "    sns.boxplot(y = df[feature_list[i]], data = df)\n",
    "    plt.title('Boxplot of {}'.format(feature_list[i]))\n",
    "    plt.tight_layout()"
   ]
  },
  {
   "cell_type": "code",
   "execution_count": 10,
   "id": "47cd5fc6",
   "metadata": {},
   "outputs": [],
   "source": [
    "def remove_outlier(col):\n",
    "    Q1,Q3 = col.quantile([0.25, 0.75])\n",
    "    IQR = Q3 - Q1\n",
    "    lower_range = Q1-(1.5 * IQR)\n",
    "    upper_range = Q3+(1.5 * IQR)\n",
    "    return lower_range, upper_range"
   ]
  },
  {
   "cell_type": "code",
   "execution_count": 11,
   "id": "67c1691f",
   "metadata": {},
   "outputs": [],
   "source": [
    "for i in feature_list:\n",
    "    LL, UL = remove_outlier(df[i])\n",
    "    df[i] = np.where(df[i] > UL, UL, df[i])\n",
    "    df[i] = np.where(df[i] < LL, LL, df[i])"
   ]
  },
  {
   "cell_type": "code",
   "execution_count": 12,
   "id": "a3660853",
   "metadata": {},
   "outputs": [
    {
     "data": {
      "image/png": "[encoded data removed]",
      "text/plain": [
       "<Figure size 1368x1080 with 2 Axes>"
      ]
     },
     "metadata": {
      "needs_background": "light"
     },
     "output_type": "display_data"
    }
   ],
   "source": [
    "plt.figure(figsize = (19,15))\n",
    "feature_list = df_list\n",
    "for i in range(len(feature_list)):\n",
    "    plt.subplot(3, 6, i + 1)\n",
    "    sns.boxplot(y = df[feature_list[i]], data = df)\n",
    "    plt.title('Boxplot of {}'.format(feature_list[i]))\n",
    "    plt.tight_layout()"
   ]
  },
  {
   "cell_type": "code",
   "execution_count": 13,
   "id": "7cd20934",
   "metadata": {},
   "outputs": [
    {
     "data": {
      "text/plain": [
       "Text(45, 22, 'Mean age38.098214285714285')"
      ]
     },
     "execution_count": 13,
     "metadata": {},
     "output_type": "execute_result"
    },
    {
     "data": {
      "image/png": "[encoded data removed]",
      "text/plain": [
       "<Figure size 864x360 with 2 Axes>"
      ]
     },
     "metadata": {
      "needs_background": "light"
     },
     "output_type": "display_data"
    }
   ],
   "source": [
    "males_age=df[df[\"Gender\"]==\"Male\"][\"Age\"] # subset with males age\n",
    "females_age = df[df[\"Gender\"]==\"Female\"][\"Age\"] # subset with females age\n",
    "\n",
    "age_bins = range(15,75,5)\n",
    "\n",
    "#males histogram \n",
    "fig2, (ax1, ax2) = plt.subplots(1, 2, figsize=(12,5), sharey=True)\n",
    "sns.distplot(males_age, bins=age_bins, kde=False, ax=ax1)\n",
    "ax1.set_xticks(age_bins) \n",
    "ax1.set_ylim(top=25)\n",
    "ax1.set_title(\"Males\") \n",
    "ax1.set_ylabel(\"Count\") \n",
    "ax1.text(45,23, \"TOTAL count: {}\".format(males_age.count()))\n",
    "ax1.text(45,22, \"Mean age{}\".format(males_age.mean()))\n",
    "\n",
    "#females histogram \n",
    "sns.distplot(females_age, bins=age_bins, kde=False, ax=ax2)\n",
    "ax2.set_xticks(age_bins)\n",
    "ax2.set_title(\"Female\")\n",
    "ax2.set_ylabel(\"Count\")\n",
    "ax2.text(45,23, \"TOTAL count: {}\".format(females_age.count()))\n",
    "ax2.text(45,22, \"Mean age{}\".format(females_age.mean()))"
   ]
  },
  {
   "cell_type": "code",
   "execution_count": 14,
   "id": "52ad3ab1",
   "metadata": {},
   "outputs": [
    {
     "data": {
      "text/plain": [
       "Text(65, 22, 'Annual income median: 59.25')"
      ]
     },
     "execution_count": 14,
     "metadata": {},
     "output_type": "execute_result"
    },
    {
     "data": {
      "image/png": "[encoded data removed]",
      "text/plain": [
       "<Figure size 864x360 with 2 Axes>"
      ]
     },
     "metadata": {
      "needs_background": "light"
     },
     "output_type": "display_data"
    }
   ],
   "source": [
    "#Distribution of Annual Income\n",
    "bins = range(10,150,10)\n",
    "males_annu= df[df[\"Gender\"]==\"Male\"][\"Annual Income (k$)\"] # subset with males\n",
    "females_annu = df[df[\"Gender\"]==\"Female\"][\"Annual Income (k$)\"] # subset with females\n",
    "fig2, (ax1, ax2) = plt.subplots(1, 2, figsize=(12,5), sharey=True)\n",
    "sns.distplot(males_annu, ax=ax1,  kde=False )\n",
    "ax1.set_title('Distribution of Annual Income (k$)-Males', fontsize = 10)\n",
    "ax1.set_xticks(bins)\n",
    "plt.xlabel('Range of Annual Income (k$)')\n",
    "plt.ylabel('Count')\n",
    "ax1.text(75,23, \"Annual income mean: {}\".format(males_annu.mean()))\n",
    "ax1.text(75,22, \"Annual income median: {}\".format(males_annu.mean()))\n",
    "\n",
    "sns.distplot(females_annu, ax=ax2,  kde=False)\n",
    "ax2.set_title('Distribution of Annual Income (k$)-Females', fontsize = 10)\n",
    "ax2.set_xticks(bins)\n",
    "plt.xlabel('Range of Annual Income (k$)')\n",
    "plt.ylabel('Count')\n",
    "ax2.text(65,23, \"Annual income mean: {}\".format(females_annu.mean()))\n",
    "ax2.text(65,22, \"Annual income median: {}\".format(females_annu.mean()))"
   ]
  },
  {
   "cell_type": "code",
   "execution_count": 15,
   "id": "102c2231",
   "metadata": {},
   "outputs": [
    {
     "data": {
      "text/plain": [
       "<AxesSubplot:xlabel='Gender', ylabel='Annual Income (k$)'>"
      ]
     },
     "execution_count": 15,
     "metadata": {},
     "output_type": "execute_result"
    },
    {
     "data": {
      "image/png": "[encoded data removed]",
      "text/plain": [
       "<Figure size 432x288 with 1 Axes>"
      ]
     },
     "metadata": {
      "needs_background": "light"
     },
     "output_type": "display_data"
    }
   ],
   "source": [
    "sns.boxplot(x=\"Gender\", y=\"Annual Income (k$)\", data=df)"
   ]
  },
  {
   "cell_type": "code",
   "execution_count": 16,
   "id": "e8a8f079",
   "metadata": {},
   "outputs": [
    {
     "data": {
      "text/plain": [
       "Text(0, 0.5, 'Count')"
      ]
     },
     "execution_count": 16,
     "metadata": {},
     "output_type": "execute_result"
    },
    {
     "data": {
      "image/png": "[encoded data removed]",
      "text/plain": [
       "<Figure size 864x360 with 2 Axes>"
      ]
     },
     "metadata": {
      "needs_background": "light"
     },
     "output_type": "display_data"
    }
   ],
   "source": [
    "#Distribution of Spending Score\n",
    "bins = range(10,150,10)\n",
    "males_spending= df[df[\"Gender\"]==\"Male\"][\"Spending Score (1-100)\"] # subset with males\n",
    "females_spending = df[df[\"Gender\"]==\"Female\"][\"Spending Score (1-100)\"] # subset with females\n",
    "fig2, (ax1, ax2) = plt.subplots(1, 2, figsize=(12,5), sharey=True)\n",
    "sns.distplot(males_spending, ax=ax1,  kde=False )\n",
    "ax1.set_title('Spending Score-Males', fontsize = 10)\n",
    "ax1.set_xticks(bins)\n",
    "plt.xlabel('Range of Spending Score')\n",
    "plt.ylabel('Count')\n",
    "\n",
    "sns.distplot(females_spending, ax=ax2,  kde=False)\n",
    "ax2.set_title('Spending Score-Females', fontsize = 10)\n",
    "ax2.set_xticks(bins)\n",
    "plt.xlabel('Range of Spending Score')\n",
    "plt.ylabel('Count')"
   ]
  },
  {
   "cell_type": "code",
   "execution_count": 17,
   "id": "6118ba67",
   "metadata": {},
   "outputs": [
    {
     "data": {
      "text/plain": [
       "<AxesSubplot:xlabel='Gender', ylabel='Spending Score (1-100)'>"
      ]
     },
     "execution_count": 17,
     "metadata": {},
     "output_type": "execute_result"
    },
    {
     "data": {
      "image/png": "[encoded data removed]",
      "text/plain": [
       "<Figure size 432x288 with 1 Axes>"
      ]
     },
     "metadata": {
      "needs_background": "light"
     },
     "output_type": "display_data"
    }
   ],
   "source": [
    "sns.boxplot(x=\"Gender\", y=\"Spending Score (1-100)\", data=df)"
   ]
  },
  {
   "cell_type": "code",
   "execution_count": 18,
   "id": "d940c583",
   "metadata": {},
   "outputs": [
    {
     "data": {
      "text/plain": [
       "<AxesSubplot:xlabel='Gender', ylabel='count'>"
      ]
     },
     "execution_count": 18,
     "metadata": {},
     "output_type": "execute_result"
    },
    {
     "data": {
      "image/png": "[encoded data removed]",
      "text/plain": [
       "<Figure size 432x288 with 1 Axes>"
      ]
     },
     "metadata": {
      "needs_background": "light"
     },
     "output_type": "display_data"
    }
   ],
   "source": [
    "#Gender Analysis:\n",
    "sns.countplot(x=\"Gender\", data=df)"
   ]
  },
  {
   "cell_type": "markdown",
   "id": "f6726f71",
   "metadata": {},
   "source": [
    "### Clustering: Perform z-score scaling"
   ]
  },
  {
   "cell_type": "code",
   "execution_count": 19,
   "id": "474f21c2",
   "metadata": {},
   "outputs": [],
   "source": [
    "from scipy.stats import zscore\n",
    "from sklearn.preprocessing import StandardScaler"
   ]
  },
  {
   "cell_type": "code",
   "execution_count": 20,
   "id": "84c8250e",
   "metadata": {},
   "outputs": [],
   "source": [
    "df1=df[['Age', 'Annual Income (k$)', 'Spending Score (1-100)']]"
   ]
  },
  {
   "cell_type": "code",
   "execution_count": 21,
   "id": "efbc7e5a",
   "metadata": {},
   "outputs": [
    {
     "data": {
      "text/html": [
       "<div>\n",
       "<style scoped>\n",
       "    .dataframe tbody tr th:only-of-type {\n",
       "        vertical-align: middle;\n",
       "    }\n",
       "\n",
       "    .dataframe tbody tr th {\n",
       "        vertical-align: top;\n",
       "    }\n",
       "\n",
       "    .dataframe thead th {\n",
       "        text-align: right;\n",
       "    }\n",
       "</style>\n",
       "<table border=\"1\" class=\"dataframe\">\n",
       "  <thead>\n",
       "    <tr style=\"text-align: right;\">\n",
       "      <th></th>\n",
       "      <th>Age</th>\n",
       "      <th>Annual Income (k$)</th>\n",
       "      <th>Spending Score (1-100)</th>\n",
       "    </tr>\n",
       "  </thead>\n",
       "  <tbody>\n",
       "    <tr>\n",
       "      <th>0</th>\n",
       "      <td>19</td>\n",
       "      <td>15.0</td>\n",
       "      <td>39.0</td>\n",
       "    </tr>\n",
       "    <tr>\n",
       "      <th>1</th>\n",
       "      <td>21</td>\n",
       "      <td>15.0</td>\n",
       "      <td>81.0</td>\n",
       "    </tr>\n",
       "    <tr>\n",
       "      <th>2</th>\n",
       "      <td>20</td>\n",
       "      <td>16.0</td>\n",
       "      <td>6.0</td>\n",
       "    </tr>\n",
       "    <tr>\n",
       "      <th>3</th>\n",
       "      <td>23</td>\n",
       "      <td>16.0</td>\n",
       "      <td>77.0</td>\n",
       "    </tr>\n",
       "    <tr>\n",
       "      <th>4</th>\n",
       "      <td>31</td>\n",
       "      <td>17.0</td>\n",
       "      <td>40.0</td>\n",
       "    </tr>\n",
       "  </tbody>\n",
       "</table>\n",
       "</div>"
      ],
      "text/plain": [
       "   Age  Annual Income (k$)  Spending Score (1-100)\n",
       "0   19                15.0                    39.0\n",
       "1   21                15.0                    81.0\n",
       "2   20                16.0                     6.0\n",
       "3   23                16.0                    77.0\n",
       "4   31                17.0                    40.0"
      ]
     },
     "execution_count": 21,
     "metadata": {},
     "output_type": "execute_result"
    }
   ],
   "source": [
    "df1.head()"
   ]
  },
  {
   "cell_type": "code",
   "execution_count": 22,
   "id": "0fad0274",
   "metadata": {},
   "outputs": [],
   "source": [
    " df_scaled = df1.apply(zscore)"
   ]
  },
  {
   "cell_type": "code",
   "execution_count": 23,
   "id": "0bff2ae3",
   "metadata": {},
   "outputs": [],
   "source": [
    "X = StandardScaler()"
   ]
  },
  {
   "cell_type": "code",
   "execution_count": 24,
   "id": "af5930c8",
   "metadata": {},
   "outputs": [
    {
     "data": {
      "text/html": [
       "<div>\n",
       "<style scoped>\n",
       "    .dataframe tbody tr th:only-of-type {\n",
       "        vertical-align: middle;\n",
       "    }\n",
       "\n",
       "    .dataframe tbody tr th {\n",
       "        vertical-align: top;\n",
       "    }\n",
       "\n",
       "    .dataframe thead th {\n",
       "        text-align: right;\n",
       "    }\n",
       "</style>\n",
       "<table border=\"1\" class=\"dataframe\">\n",
       "  <thead>\n",
       "    <tr style=\"text-align: right;\">\n",
       "      <th></th>\n",
       "      <th>Age</th>\n",
       "      <th>Annual Income (k$)</th>\n",
       "      <th>Spending Score (1-100)</th>\n",
       "    </tr>\n",
       "  </thead>\n",
       "  <tbody>\n",
       "    <tr>\n",
       "      <th>0</th>\n",
       "      <td>-1.424569</td>\n",
       "      <td>-1.745429</td>\n",
       "      <td>-0.434801</td>\n",
       "    </tr>\n",
       "    <tr>\n",
       "      <th>1</th>\n",
       "      <td>-1.281035</td>\n",
       "      <td>-1.745429</td>\n",
       "      <td>1.195704</td>\n",
       "    </tr>\n",
       "    <tr>\n",
       "      <th>2</th>\n",
       "      <td>-1.352802</td>\n",
       "      <td>-1.707083</td>\n",
       "      <td>-1.715913</td>\n",
       "    </tr>\n",
       "    <tr>\n",
       "      <th>3</th>\n",
       "      <td>-1.137502</td>\n",
       "      <td>-1.707083</td>\n",
       "      <td>1.040418</td>\n",
       "    </tr>\n",
       "    <tr>\n",
       "      <th>4</th>\n",
       "      <td>-0.563369</td>\n",
       "      <td>-1.668737</td>\n",
       "      <td>-0.395980</td>\n",
       "    </tr>\n",
       "  </tbody>\n",
       "</table>\n",
       "</div>"
      ],
      "text/plain": [
       "        Age  Annual Income (k$)  Spending Score (1-100)\n",
       "0 -1.424569           -1.745429               -0.434801\n",
       "1 -1.281035           -1.745429                1.195704\n",
       "2 -1.352802           -1.707083               -1.715913\n",
       "3 -1.137502           -1.707083                1.040418\n",
       "4 -0.563369           -1.668737               -0.395980"
      ]
     },
     "execution_count": 24,
     "metadata": {},
     "output_type": "execute_result"
    }
   ],
   "source": [
    "df_scaled =  X.fit_transform(df1)\n",
    "df_scaled = pd.DataFrame(df_scaled,columns=df1.columns)\n",
    "df_scaled.head()"
   ]
  },
  {
   "cell_type": "markdown",
   "id": "46dce90a",
   "metadata": {},
   "source": [
    "### K Mean"
   ]
  },
  {
   "cell_type": "code",
   "execution_count": 25,
   "id": "135118b5",
   "metadata": {},
   "outputs": [],
   "source": [
    "from sklearn.cluster import KMeans"
   ]
  },
  {
   "cell_type": "markdown",
   "id": "c55f7f2d",
   "metadata": {},
   "source": [
    "The Within-Cluster Sum of Squares (WCSS) is a metric used to evaluate the quality of clustering in KMeans and other centroid-based clustering algorithms. It measures how compact the data points are within each cluster, quantifying the variance or spread of data points from their respective cluster centers. The WCSS is a critical factor in helping to determine the optimal number of clusters for a dataset."
   ]
  },
  {
   "cell_type": "code",
   "execution_count": 26,
   "id": "45ebbce7",
   "metadata": {},
   "outputs": [],
   "source": [
    "wcss = []\n",
    "for i in range(1,11):\n",
    "    KM = KMeans(n_clusters=i)\n",
    "    KM.fit(df_scaled)\n",
    "    wcss.append(KM.inertia_)"
   ]
  },
  {
   "cell_type": "code",
   "execution_count": 27,
   "id": "63d53ed4",
   "metadata": {},
   "outputs": [
    {
     "data": {
      "text/plain": [
       "[600.0,\n",
       " 389.38622652676906,\n",
       " 295.1877247206851,\n",
       " 204.69696344803396,\n",
       " 167.57686457179994,\n",
       " 133.09247804000822,\n",
       " 116.41758999699883,\n",
       " 103.13816291118951,\n",
       " 92.2172812011869,\n",
       " 81.84431312153293]"
      ]
     },
     "execution_count": 27,
     "metadata": {},
     "output_type": "execute_result"
    }
   ],
   "source": [
    "wcss"
   ]
  },
  {
   "cell_type": "code",
   "execution_count": 28,
   "id": "832a066e",
   "metadata": {},
   "outputs": [
    {
     "data": {
      "text/plain": [
       "[<matplotlib.lines.Line2D at 0x1ced9776820>]"
      ]
     },
     "execution_count": 28,
     "metadata": {},
     "output_type": "execute_result"
    },
    {
     "data": {
      "image/png": "[encoded data removed]",
      "text/plain": [
       "<Figure size 432x288 with 1 Axes>"
      ]
     },
     "metadata": {
      "needs_background": "light"
     },
     "output_type": "display_data"
    }
   ],
   "source": [
    "plt.plot(range(1,11), wcss)"
   ]
  },
  {
   "cell_type": "code",
   "execution_count": 29,
   "id": "f85a26c4",
   "metadata": {},
   "outputs": [],
   "source": [
    "k_means = KMeans(n_clusters = 6)\n",
    "k_means.fit(df_scaled)\n",
    "labels = k_means.labels_"
   ]
  },
  {
   "cell_type": "code",
   "execution_count": 30,
   "id": "757b0221",
   "metadata": {},
   "outputs": [],
   "source": [
    "from sklearn.metrics import silhouette_samples, silhouette_score"
   ]
  },
  {
   "cell_type": "code",
   "execution_count": 31,
   "id": "6b2ec568",
   "metadata": {},
   "outputs": [
    {
     "data": {
      "text/plain": [
       "0.42835401089894504"
      ]
     },
     "execution_count": 31,
     "metadata": {},
     "output_type": "execute_result"
    }
   ],
   "source": [
    "silhouette_score(df_scaled, labels)\n",
    "#after using the scaled data the silhouette_score is coming positive \n",
    "#else it was negative on unscalled data"
   ]
  },
  {
   "cell_type": "markdown",
   "id": "22157473",
   "metadata": {},
   "source": [
    "When interpreting silhouette scores:\n",
    "\n",
    "#### Positive Scores: \n",
    "A positive silhouette score indicates that the sample is well-matched to its own cluster and poorly-matched to neighboring clusters. The larger the score, the better the separation.\n",
    "#### Score Near 0: \n",
    "A score near zero suggests that the sample is on or very close to the decision boundary between two neighboring clusters.\n",
    "#### Negative Scores: \n",
    "A negative silhouette score indicates that the sample might have been assigned to the wrong cluster. This often occurs when clusters overlap or when points are closer to points in other clusters than their own."
   ]
  },
  {
   "cell_type": "code",
   "execution_count": 32,
   "id": "5ca459d1",
   "metadata": {},
   "outputs": [
    {
     "name": "stdout",
     "output_type": "stream",
     "text": [
      "For n_clusters = 2 The average silhouette_score is : 0.3351423622452222\n",
      "For n_clusters = 3 The average silhouette_score is : 0.3574111960837928\n",
      "For n_clusters = 4 The average silhouette_score is : 0.404571485370916\n",
      "For n_clusters = 5 The average silhouette_score is : 0.4174427242483793\n",
      "For n_clusters = 6 The average silhouette_score is : 0.4277914482997785\n",
      "For n_clusters = 7 The average silhouette_score is : 0.4181142918310162\n",
      "For n_clusters = 8 The average silhouette_score is : 0.41169768752539226\n",
      "For n_clusters = 9 The average silhouette_score is : 0.41796172182642183\n",
      "For n_clusters = 10 The average silhouette_score is : 0.4047110071753535\n"
     ]
    }
   ],
   "source": [
    "range_n_clusters = [2, 3, 4, 5, 6,7,8,9,10]\n",
    "\n",
    "for n_clusters in range_n_clusters:\n",
    "    k_means = KMeans(n_clusters)\n",
    "    k_means.fit(df_scaled)\n",
    "    labels = k_means.labels_\n",
    "\n",
    "    silhouette_avg = silhouette_score(df_scaled, labels)\n",
    "    print(\n",
    "        \"For n_clusters =\",\n",
    "        n_clusters,\n",
    "        \"The average silhouette_score is :\",\n",
    "        silhouette_avg,\n",
    "    )"
   ]
  },
  {
   "cell_type": "code",
   "execution_count": 33,
   "id": "27fc9ff2",
   "metadata": {},
   "outputs": [
    {
     "data": {
      "image/png": "[encoded data removed]",
      "text/plain": [
       "<Figure size 432x288 with 1 Axes>"
      ]
     },
     "metadata": {
      "needs_background": "light"
     },
     "output_type": "display_data"
    }
   ],
   "source": [
    "import matplotlib.pyplot as plt\n",
    "\n",
    "# Number of clusters (x-axis values)\n",
    "n_clusters = [2, 3, 4, 5, 6, 7, 8, 9, 10]\n",
    "\n",
    "# Silhouette scores (y-axis values)\n",
    "silhouette_scores = [0.2935610473840494, 0.3840264152843733, 0.40614375021198673,\n",
    "                     0.44513180310309386, 0.4534885435878979, 0.4418866283911202,\n",
    "                     0.4281524268991225, 0.38774619022244194, 0.38619309014215647]\n",
    "\n",
    "# Create the plot\n",
    "plt.plot(n_clusters, silhouette_scores, marker='o')\n",
    "\n",
    "# Add labels and title\n",
    "plt.xlabel('Number of Clusters')\n",
    "plt.ylabel('Silhouette Score')\n",
    "plt.title('Silhouette Score vs Number of Clusters')\n",
    "\n",
    "# Show the plot\n",
    "plt.show()"
   ]
  },
  {
   "cell_type": "markdown",
   "id": "0bf5126e",
   "metadata": {},
   "source": [
    "The point where the silhouette score starts to decrease after reaching its peak at 6 clusters.\n",
    "We want to choose 6 clusters as the optimal number, as it's the point where the silhouette score is relatively high \n",
    "and starts to decline afterward."
   ]
  },
  {
   "cell_type": "code",
   "execution_count": 34,
   "id": "87d7d630",
   "metadata": {},
   "outputs": [],
   "source": [
    "sil_width = silhouette_samples(df_scaled, labels)"
   ]
  },
  {
   "cell_type": "code",
   "execution_count": 35,
   "id": "359b0b14",
   "metadata": {},
   "outputs": [
    {
     "data": {
      "text/plain": [
       "-0.12401238015788073"
      ]
     },
     "execution_count": 35,
     "metadata": {},
     "output_type": "execute_result"
    }
   ],
   "source": [
    "silhouette_samples(df_scaled, labels).min()"
   ]
  },
  {
   "cell_type": "markdown",
   "id": "d8e4a518",
   "metadata": {},
   "source": [
    "silhouette_samples(df_scaled, labels): This calculates the silhouette score for each sample in the scaled DataFrame df_scaled based on the cluster labels labels.\n",
    "\n",
    ".min(): This function is then used on the array of silhouette scores to get the minimum value. The minimum silhouette score indicates the sample that is least well-matched to its assigned cluster, which could potentially indicate a problematic point or cluster."
   ]
  },
  {
   "cell_type": "code",
   "execution_count": 36,
   "id": "d8aaab85",
   "metadata": {},
   "outputs": [
    {
     "data": {
      "text/plain": [
       "0.4277914482997785"
      ]
     },
     "execution_count": 36,
     "metadata": {},
     "output_type": "execute_result"
    }
   ],
   "source": [
    "k_means = KMeans(n_clusters = 6, random_state = 1)\n",
    "k_means.fit(df_scaled)\n",
    "labels_6 = k_means.labels_\n",
    "silhouette_score(df_scaled, labels_6, random_state = 1)"
   ]
  },
  {
   "cell_type": "code",
   "execution_count": 37,
   "id": "3019fd85",
   "metadata": {},
   "outputs": [],
   "source": [
    "df[\"Clus_kmeans6\"] = labels_6"
   ]
  },
  {
   "cell_type": "code",
   "execution_count": 38,
   "id": "e44742aa",
   "metadata": {},
   "outputs": [
    {
     "data": {
      "text/html": [
       "<div>\n",
       "<style scoped>\n",
       "    .dataframe tbody tr th:only-of-type {\n",
       "        vertical-align: middle;\n",
       "    }\n",
       "\n",
       "    .dataframe tbody tr th {\n",
       "        vertical-align: top;\n",
       "    }\n",
       "\n",
       "    .dataframe thead th {\n",
       "        text-align: right;\n",
       "    }\n",
       "</style>\n",
       "<table border=\"1\" class=\"dataframe\">\n",
       "  <thead>\n",
       "    <tr style=\"text-align: right;\">\n",
       "      <th></th>\n",
       "      <th>CustomerID</th>\n",
       "      <th>Gender</th>\n",
       "      <th>Age</th>\n",
       "      <th>Annual Income (k$)</th>\n",
       "      <th>Spending Score (1-100)</th>\n",
       "      <th>Clus_kmeans6</th>\n",
       "    </tr>\n",
       "  </thead>\n",
       "  <tbody>\n",
       "    <tr>\n",
       "      <th>0</th>\n",
       "      <td>1</td>\n",
       "      <td>Male</td>\n",
       "      <td>19</td>\n",
       "      <td>15.0</td>\n",
       "      <td>39.0</td>\n",
       "      <td>4</td>\n",
       "    </tr>\n",
       "    <tr>\n",
       "      <th>1</th>\n",
       "      <td>2</td>\n",
       "      <td>Male</td>\n",
       "      <td>21</td>\n",
       "      <td>15.0</td>\n",
       "      <td>81.0</td>\n",
       "      <td>4</td>\n",
       "    </tr>\n",
       "    <tr>\n",
       "      <th>2</th>\n",
       "      <td>3</td>\n",
       "      <td>Female</td>\n",
       "      <td>20</td>\n",
       "      <td>16.0</td>\n",
       "      <td>6.0</td>\n",
       "      <td>5</td>\n",
       "    </tr>\n",
       "    <tr>\n",
       "      <th>3</th>\n",
       "      <td>4</td>\n",
       "      <td>Female</td>\n",
       "      <td>23</td>\n",
       "      <td>16.0</td>\n",
       "      <td>77.0</td>\n",
       "      <td>4</td>\n",
       "    </tr>\n",
       "    <tr>\n",
       "      <th>4</th>\n",
       "      <td>5</td>\n",
       "      <td>Female</td>\n",
       "      <td>31</td>\n",
       "      <td>17.0</td>\n",
       "      <td>40.0</td>\n",
       "      <td>5</td>\n",
       "    </tr>\n",
       "  </tbody>\n",
       "</table>\n",
       "</div>"
      ],
      "text/plain": [
       "   CustomerID  Gender  Age  Annual Income (k$)  Spending Score (1-100)  \\\n",
       "0           1    Male   19                15.0                    39.0   \n",
       "1           2    Male   21                15.0                    81.0   \n",
       "2           3  Female   20                16.0                     6.0   \n",
       "3           4  Female   23                16.0                    77.0   \n",
       "4           5  Female   31                17.0                    40.0   \n",
       "\n",
       "   Clus_kmeans6  \n",
       "0             4  \n",
       "1             4  \n",
       "2             5  \n",
       "3             4  \n",
       "4             5  "
      ]
     },
     "execution_count": 38,
     "metadata": {},
     "output_type": "execute_result"
    }
   ],
   "source": [
    "df.head()"
   ]
  },
  {
   "cell_type": "code",
   "execution_count": 39,
   "id": "3b0930e8",
   "metadata": {},
   "outputs": [
    {
     "data": {
      "text/plain": [
       "0    38\n",
       "1    45\n",
       "2    39\n",
       "3    34\n",
       "4    23\n",
       "5    21\n",
       "Name: Clus_kmeans6, dtype: int64"
      ]
     },
     "execution_count": 39,
     "metadata": {},
     "output_type": "execute_result"
    }
   ],
   "source": [
    "freq = df.Clus_kmeans6.value_counts().sort_index()\n",
    "freq"
   ]
  },
  {
   "cell_type": "code",
   "execution_count": 40,
   "id": "36d4a7f9",
   "metadata": {},
   "outputs": [
    {
     "data": {
      "text/html": [
       "<div>\n",
       "<style scoped>\n",
       "    .dataframe tbody tr th:only-of-type {\n",
       "        vertical-align: middle;\n",
       "    }\n",
       "\n",
       "    .dataframe tbody tr th {\n",
       "        vertical-align: top;\n",
       "    }\n",
       "\n",
       "    .dataframe thead th {\n",
       "        text-align: right;\n",
       "    }\n",
       "</style>\n",
       "<table border=\"1\" class=\"dataframe\">\n",
       "  <thead>\n",
       "    <tr style=\"text-align: right;\">\n",
       "      <th></th>\n",
       "      <th></th>\n",
       "      <th>Age</th>\n",
       "      <th>Annual Income (k$)</th>\n",
       "      <th>Spending Score (1-100)</th>\n",
       "    </tr>\n",
       "    <tr>\n",
       "      <th>Clus_kmeans6</th>\n",
       "      <th>Gender</th>\n",
       "      <th></th>\n",
       "      <th></th>\n",
       "      <th></th>\n",
       "    </tr>\n",
       "  </thead>\n",
       "  <tbody>\n",
       "    <tr>\n",
       "      <th rowspan=\"2\" valign=\"top\">0</th>\n",
       "      <th>Female</th>\n",
       "      <td>27.960000</td>\n",
       "      <td>57.360000</td>\n",
       "      <td>47.120000</td>\n",
       "    </tr>\n",
       "    <tr>\n",
       "      <th>Male</th>\n",
       "      <td>25.153846</td>\n",
       "      <td>55.307692</td>\n",
       "      <td>53.000000</td>\n",
       "    </tr>\n",
       "    <tr>\n",
       "      <th rowspan=\"2\" valign=\"top\">1</th>\n",
       "      <th>Female</th>\n",
       "      <td>54.153846</td>\n",
       "      <td>54.230769</td>\n",
       "      <td>48.961538</td>\n",
       "    </tr>\n",
       "    <tr>\n",
       "      <th>Male</th>\n",
       "      <td>59.315789</td>\n",
       "      <td>54.315789</td>\n",
       "      <td>49.210526</td>\n",
       "    </tr>\n",
       "    <tr>\n",
       "      <th rowspan=\"2\" valign=\"top\">2</th>\n",
       "      <th>Female</th>\n",
       "      <td>32.190476</td>\n",
       "      <td>86.047619</td>\n",
       "      <td>81.666667</td>\n",
       "    </tr>\n",
       "    <tr>\n",
       "      <th>Male</th>\n",
       "      <td>33.277778</td>\n",
       "      <td>86.875000</td>\n",
       "      <td>82.666667</td>\n",
       "    </tr>\n",
       "    <tr>\n",
       "      <th rowspan=\"2\" valign=\"top\">3</th>\n",
       "      <th>Female</th>\n",
       "      <td>43.785714</td>\n",
       "      <td>93.285714</td>\n",
       "      <td>20.642857</td>\n",
       "    </tr>\n",
       "    <tr>\n",
       "      <th>Male</th>\n",
       "      <td>39.500000</td>\n",
       "      <td>84.937500</td>\n",
       "      <td>14.050000</td>\n",
       "    </tr>\n",
       "    <tr>\n",
       "      <th rowspan=\"2\" valign=\"top\">4</th>\n",
       "      <th>Female</th>\n",
       "      <td>25.461538</td>\n",
       "      <td>25.692308</td>\n",
       "      <td>80.538462</td>\n",
       "    </tr>\n",
       "    <tr>\n",
       "      <th>Male</th>\n",
       "      <td>24.400000</td>\n",
       "      <td>24.700000</td>\n",
       "      <td>73.800000</td>\n",
       "    </tr>\n",
       "    <tr>\n",
       "      <th rowspan=\"2\" valign=\"top\">5</th>\n",
       "      <th>Female</th>\n",
       "      <td>41.538462</td>\n",
       "      <td>26.538462</td>\n",
       "      <td>20.692308</td>\n",
       "    </tr>\n",
       "    <tr>\n",
       "      <th>Male</th>\n",
       "      <td>52.000000</td>\n",
       "      <td>25.875000</td>\n",
       "      <td>17.250000</td>\n",
       "    </tr>\n",
       "  </tbody>\n",
       "</table>\n",
       "</div>"
      ],
      "text/plain": [
       "                           Age  Annual Income (k$)  Spending Score (1-100)\n",
       "Clus_kmeans6 Gender                                                       \n",
       "0            Female  27.960000           57.360000               47.120000\n",
       "             Male    25.153846           55.307692               53.000000\n",
       "1            Female  54.153846           54.230769               48.961538\n",
       "             Male    59.315789           54.315789               49.210526\n",
       "2            Female  32.190476           86.047619               81.666667\n",
       "             Male    33.277778           86.875000               82.666667\n",
       "3            Female  43.785714           93.285714               20.642857\n",
       "             Male    39.500000           84.937500               14.050000\n",
       "4            Female  25.461538           25.692308               80.538462\n",
       "             Male    24.400000           24.700000               73.800000\n",
       "5            Female  41.538462           26.538462               20.692308\n",
       "             Male    52.000000           25.875000               17.250000"
      ]
     },
     "execution_count": 40,
     "metadata": {},
     "output_type": "execute_result"
    }
   ],
   "source": [
    "clus_profile=df.drop([\"CustomerID\"], axis=1)\n",
    "clust_profile1 = clus_profile.groupby(['Clus_kmeans6','Gender']).mean()\n",
    "clust_profile1"
   ]
  },
  {
   "cell_type": "markdown",
   "id": "dd2d18a1",
   "metadata": {},
   "source": [
    "Cluster 0, females have a slightly higher Annual Income but lower Spending Score compared to males.\n",
    "\n",
    "Cluster 1, both genders have similar attributes, indicating a balanced segment.\n",
    "\n",
    "Cluster 2 has females and males with higher Annual Income and Spending Scores, suggesting they might be high-spending customers.\n",
    "\n",
    "Cluster 3 has females and males with relatively low Spending Scores, indicating potential budget-conscious customers.\n",
    "\n",
    "Cluster 4, both genders have similar attributes, indicating a balanced segment.\n",
    "\n",
    "Cluster 5 has females with higher Spending Scores and males with moderate scores, suggesting a cluster of female shoppers and average-spending males.\n",
    "\n",
    "### Potential Marketing Strategies: These insights can guide marketing strategies:\n",
    "\n",
    "High-spending customers in Cluster 2 might be targeted with premium products or services.\n",
    "\n",
    "Budget-conscious customers in Cluster 3 might respond well to promotions or discounts.\n",
    "\n",
    "Female shoppers in Cluster 5 might be interested in products related to their higher Spending Scores."
   ]
  },
  {
   "cell_type": "markdown",
   "id": "0e56eb2d",
   "metadata": {},
   "source": [
    "###  Hierarchical Clustering by constructing a Dendrogram using WARD and Euclidean distance."
   ]
  },
  {
   "cell_type": "code",
   "execution_count": 41,
   "id": "ffae0e42",
   "metadata": {},
   "outputs": [],
   "source": [
    "from scipy.cluster.hierarchy import dendrogram, linkage"
   ]
  },
  {
   "cell_type": "code",
   "execution_count": 42,
   "id": "e4459cb6",
   "metadata": {},
   "outputs": [],
   "source": [
    "wardlink = linkage(df_scaled, method = 'ward') \n",
    "#The 'ward' linkage method aims to minimize the variance of distances between clusters,\n",
    "#making it suitable for minimizing the overall variance in cluster sizes."
   ]
  },
  {
   "cell_type": "code",
   "execution_count": 43,
   "id": "be39ef46",
   "metadata": {},
   "outputs": [
    {
     "data": {
      "image/png": "[encoded data removed]",
      "text/plain": [
       "<Figure size 432x288 with 1 Axes>"
      ]
     },
     "metadata": {
      "needs_background": "light"
     },
     "output_type": "display_data"
    }
   ],
   "source": [
    "dend = dendrogram(wardlink)"
   ]
  },
  {
   "cell_type": "code",
   "execution_count": 44,
   "id": "58130cbc",
   "metadata": {},
   "outputs": [
    {
     "data": {
      "image/png": "[encoded data removed]",
      "text/plain": [
       "<Figure size 432x288 with 1 Axes>"
      ]
     },
     "metadata": {
      "needs_background": "light"
     },
     "output_type": "display_data"
    }
   ],
   "source": [
    "dend = dendrogram(wardlink,\n",
    "                 truncate_mode = 'lastp',\n",
    "                 p = 10,\n",
    "                 )"
   ]
  },
  {
   "cell_type": "markdown",
   "id": "b0c07593",
   "metadata": {},
   "source": [
    "The truncate_mode and p parameters allow you to control the level of detail displayed in the dendrogram, making it easier to interpret when dealing with a large number of clusters.\n",
    "truncate_mode='lastp': This parameter specifies how to truncate (cut) the dendrogram for visualization. 'lastp' means that you will cut the tree to show only the last p merged clusters. The p parameter specifies the number of clusters to show."
   ]
  },
  {
   "cell_type": "code",
   "execution_count": 45,
   "id": "2df2afca",
   "metadata": {},
   "outputs": [],
   "source": [
    "from sklearn.cluster import AgglomerativeClustering"
   ]
  },
  {
   "cell_type": "code",
   "execution_count": 46,
   "id": "297ddb29",
   "metadata": {},
   "outputs": [
    {
     "name": "stdout",
     "output_type": "stream",
     "text": [
      "[1 0 1 0 1 0 1 0 1 0 1 0 1 0 1 0 1 0 1 0 1 0 1 0 1 0 1 0 1 0 1 0 1 0 1 0 1\n",
      " 0 1 0 1 0 1 0 1 0 1 0 0 0 1 0 0 1 1 1 1 1 0 1 1 0 1 1 1 0 1 1 0 0 1 1 1 1\n",
      " 1 0 1 1 0 1 1 1 1 1 0 1 1 0 1 1 1 0 1 1 1 0 1 0 1 0 0 1 1 0 1 0 1 1 1 1 1\n",
      " 0 1 0 0 0 1 1 1 1 0 1 1 0 0 0 2 0 2 0 2 0 0 0 2 0 2 0 2 0 2 0 0 0 2 0 2 0\n",
      " 2 0 2 0 2 0 2 0 2 0 2 0 2 0 2 0 2 0 2 0 2 0 2 0 2 0 2 0 2 0 2 0 2 0 2 0 2\n",
      " 0 2 0 2 0 2 0 2 0 2 0 2 0 2 0]\n"
     ]
    }
   ],
   "source": [
    "cluster = AgglomerativeClustering(n_clusters=3, affinity='euclidean', linkage='average') \n",
    "#creating Instance of AgglomerativeClustering\n",
    "Cluster_agglo=cluster.fit_predict(df_scaled)\n",
    "print(Cluster_agglo)"
   ]
  },
  {
   "cell_type": "code",
   "execution_count": 47,
   "id": "bf6483a0",
   "metadata": {},
   "outputs": [
    {
     "data": {
      "text/plain": [
       "0.34004455159841124"
      ]
     },
     "execution_count": 47,
     "metadata": {},
     "output_type": "execute_result"
    }
   ],
   "source": [
    "silhouette_avg = silhouette_score(df_scaled, Cluster_agglo)\n",
    "silhouette_avg"
   ]
  },
  {
   "cell_type": "code",
   "execution_count": 48,
   "id": "be6cdcf2",
   "metadata": {},
   "outputs": [
    {
     "name": "stdout",
     "output_type": "stream",
     "text": [
      "Cluster Characteristics (Means):\n",
      "              Age  Annual Income (k$)  Spending Score (1-100)\n",
      "Cluster                                                      \n",
      "0       -0.771571            0.040730                0.794690\n",
      "1        0.852569           -0.550475               -0.372897\n",
      "2        0.203510            1.057962               -1.277784\n"
     ]
    }
   ],
   "source": [
    "# Adding the cluster labels to your original DataFrame\n",
    "df_with_clusters = pd.concat([df_scaled, pd.Series(Cluster_agglo, name='Cluster')], axis=1)\n",
    "\n",
    "# Calculate mean values of features for each cluster\n",
    "cluster_means = df_with_clusters.groupby('Cluster').mean()\n",
    "\n",
    "print(\"Cluster Characteristics (Means):\")\n",
    "print(cluster_means)"
   ]
  },
  {
   "cell_type": "markdown",
   "id": "cec727a9",
   "metadata": {},
   "source": [
    "Interpreting the means:\n",
    "\n",
    "For Cluster 0, the mean values indicate relatively lower Age, slightly positive Annual Income, and high Spending Score. This cluster could represent customers who are younger, with moderate to high income, and high spending habits.\n",
    "\n",
    "For Cluster 1, the mean values indicate higher Age, relatively lower Annual Income, and slightly below-average Spending Score. This cluster might represent older customers with lower income and moderate spending.\n",
    "\n",
    "For Cluster 2, the mean values indicate moderate Age, high Annual Income, and low Spending Score. This cluster could represent customers who are middle-aged, with high income, but conservative spending habits."
   ]
  },
  {
   "cell_type": "markdown",
   "id": "caca1ad1",
   "metadata": {},
   "source": [
    "### Conclusion"
   ]
  },
  {
   "cell_type": "markdown",
   "id": "c01c7433",
   "metadata": {},
   "source": [
    "Comparing the two silhouette scores:\n",
    "\n",
    "The silhouette score for KMeans (0.4277914482997785) is higher than that of Agglomerative Clustering (0.34004455159841124).\n",
    "This suggests that, according to the silhouette score metric, the clusters formed by KMeans are relatively better separated and more distinct than those formed by Agglomerative Clustering."
   ]
  }
 ],
 "metadata": {
  "kernelspec": {
   "display_name": "Python 3 (ipykernel)",
   "language": "python",
   "name": "python3"
  },
  "language_info": {
   "codemirror_mode": {
    "name": "ipython",
    "version": 3
   },
   "file_extension": ".py",
   "mimetype": "text/x-python",
   "name": "python",
   "nbconvert_exporter": "python",
   "pygments_lexer": "ipython3",
   "version": "3.9.7"
  }
 },
 "nbformat": 4,
 "nbformat_minor": 5
}
